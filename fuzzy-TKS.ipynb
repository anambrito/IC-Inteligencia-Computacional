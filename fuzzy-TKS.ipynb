{
 "cells": [
  {
   "attachments": {},
   "cell_type": "markdown",
   "metadata": {
    "pycharm": {
     "name": "#%% md\n"
    }
   },
   "source": [
    "Inteligência Computacional \n",
    "\n",
    "Amanda\n",
    "Ana Maria Brito\n",
    "Leonardo "
   ]
  },
  {
   "attachments": {},
   "cell_type": "markdown",
   "metadata": {
    "pycharm": {
     "name": "#%% md\n"
    }
   },
   "source": [
    "Tarefa: Utilizando o Método do gradiente mostrados nos slides e vídeos do tópico 3, aproximar a saída \n",
    "para f(x) = x²"
   ]
  },
  {
   "cell_type": "code",
   "execution_count": null,
   "outputs": [],
   "source": [
    "import numpy as np\n",
    "\n",
    "# x - dx1 é a variância\n",
    "# m é a média\n",
    "\n",
    "w1 = np.exp(-0.5*(x-1/2))\n",
    "w2 = np.exp(-0.5*(x-1/-2))\n",
    "\n",
    "y1 = p1*x + q1\n",
    "y2 = p2*x + q2\n",
    "\n",
    "y = (w1*y1 + w2*y2)/(w1 + w2)"
   ],
   "metadata": {
    "collapsed": false,
    "pycharm": {
     "name": "#%%\n"
    }
   }
  },
  {
   "cell_type": "code",
   "execution_count": null,
   "outputs": [],
   "source": [
    "import matplotlib.pyplot as plt\n",
    "\n",
    "x_range = np.linspace(-2,2,100)\n",
    "w1 = w1 = np.exp(-0.5*(x_range-1/2))\n",
    "w2 = np.exp(-0.5*(x_range-1/-2))"
   ],
   "metadata": {
    "collapsed": false,
    "pycharm": {
     "name": "#%%\n"
    }
   }
  }
 ],
 "metadata": {
  "language_info": {
   "name": "python"
  },
  "orig_nbformat": 4
 },
 "nbformat": 4,
 "nbformat_minor": 2
}