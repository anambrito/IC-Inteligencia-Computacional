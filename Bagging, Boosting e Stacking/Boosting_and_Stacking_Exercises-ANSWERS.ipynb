{
  "cells": [
    {
      "attachments": {},
      "cell_type": "markdown",
      "metadata": {
        "id": "JwyihQQyl_8x",
        "run_control": {
          "marked": true
        }
      },
      "source": [
        "# Boosting and Stacking Exercises"
      ]
    },
    {
      "attachments": {},
      "cell_type": "markdown",
      "metadata": {
        "id": "lNw30cMWl_81",
        "run_control": {
          "marked": true
        }
      },
      "source": [
        "## Introduction\n",
        "\n",
        "We will be using the [Orange Telecon Churn]() database, which was built from the recordings of study participants performing activities of daily living (ADL) while carrying a smartphone with an embedded inertial sensors. The objective is to classify activities into one of the six activities (walking, walking upstairs, walking downstairs, sitting, standing, and laying) performed.\n",
        "\n",
        "For each record in the dataset it is provided: \n",
        "\n",
        "- Triaxial acceleration from the accelerometer (total acceleration) and the estimated body acceleration. \n",
        "- Triaxial angular velocity from the gyroscope. \n",
        "- A 561-feature vector with time and frequency domain variables. \n",
        "- Its activity label. \n",
        "\n",
        "More information about the features is available on the website above."
      ]
    },
    {
      "cell_type": "code",
      "execution_count": 1,
      "metadata": {
        "ExecuteTime": {
          "end_time": "2017-05-10T01:11:37.499763Z",
          "start_time": "2017-05-10T01:11:37.494556Z"
        },
        "id": "l_xACp44l_82",
        "run_control": {
          "marked": true
        }
      },
      "outputs": [],
      "source": [
        "from __future__ import print_function\n",
        "import os\n",
        "data_path = ['data']\n",
        "\n",
        "import warnings\n",
        "warnings.filterwarnings(\"ignore\")"
      ]
    },
    {
      "attachments": {},
      "cell_type": "markdown",
      "metadata": {
        "id": "pWjmV1RBl_84",
        "run_control": {
          "marked": true
        }
      },
      "source": [
        "## Question 1\n",
        "\n",
        "* Import the data from the file `Orange_Telecom_Churn_Data.csv` and examine the shape and data types. For the data types, there will be too many to list each column separately. Rather, aggregate the types by count.\n",
        "* Determine if the float columns need to be scaled."
      ]
    },
    {
      "cell_type": "code",
      "execution_count": 2,
      "metadata": {
        "ExecuteTime": {
          "end_time": "2017-05-10T01:11:40.978852Z",
          "start_time": "2017-05-10T01:11:38.803273Z"
        },
        "id": "_f5ANIQRl_85",
        "run_control": {
          "marked": true
        }
      },
      "outputs": [],
      "source": [
        "import pandas as pd\n",
        "import numpy as np\n",
        "\n",
        "filepath = os.sep.join(['Orange_Telecom_Churn_Data.csv'])\n",
        "data = pd.read_csv(filepath)"
      ]
    },
    {
      "attachments": {},
      "cell_type": "markdown",
      "metadata": {
        "id": "La50tiJJl_85",
        "run_control": {
          "marked": true
        }
      },
      "source": [
        "The data has quite a few predictor columns."
      ]
    },
    {
      "cell_type": "code",
      "execution_count": 3,
      "metadata": {
        "ExecuteTime": {
          "end_time": "2017-05-10T01:11:40.990654Z",
          "start_time": "2017-05-10T01:11:40.980224Z"
        },
        "colab": {
          "base_uri": "https://localhost:8080/"
        },
        "id": "-ILkKfacl_86",
        "outputId": "1f30cb15-c406-46e7-a6a4-2b8f32d7586f",
        "run_control": {
          "marked": true
        }
      },
      "outputs": [
        {
          "data": {
            "text/plain": [
              "(5000, 21)"
            ]
          },
          "execution_count": 3,
          "metadata": {},
          "output_type": "execute_result"
        }
      ],
      "source": [
        "data.shape"
      ]
    },
    {
      "cell_type": "code",
      "execution_count": 4,
      "metadata": {
        "colab": {
          "base_uri": "https://localhost:8080/",
          "height": 708
        },
        "id": "_-55SgHmH68o",
        "outputId": "02de648b-7658-479c-9ce1-ae535ad984f5"
      },
      "outputs": [
        {
          "data": {
            "text/html": [
              "<div>\n",
              "<style scoped>\n",
              "    .dataframe tbody tr th:only-of-type {\n",
              "        vertical-align: middle;\n",
              "    }\n",
              "\n",
              "    .dataframe tbody tr th {\n",
              "        vertical-align: top;\n",
              "    }\n",
              "\n",
              "    .dataframe thead th {\n",
              "        text-align: right;\n",
              "    }\n",
              "</style>\n",
              "<table border=\"1\" class=\"dataframe\">\n",
              "  <thead>\n",
              "    <tr style=\"text-align: right;\">\n",
              "      <th></th>\n",
              "      <th>0</th>\n",
              "      <th>1</th>\n",
              "      <th>2</th>\n",
              "      <th>3</th>\n",
              "      <th>4</th>\n",
              "    </tr>\n",
              "  </thead>\n",
              "  <tbody>\n",
              "    <tr>\n",
              "      <th>state</th>\n",
              "      <td>KS</td>\n",
              "      <td>OH</td>\n",
              "      <td>NJ</td>\n",
              "      <td>OH</td>\n",
              "      <td>OK</td>\n",
              "    </tr>\n",
              "    <tr>\n",
              "      <th>account_length</th>\n",
              "      <td>128</td>\n",
              "      <td>107</td>\n",
              "      <td>137</td>\n",
              "      <td>84</td>\n",
              "      <td>75</td>\n",
              "    </tr>\n",
              "    <tr>\n",
              "      <th>area_code</th>\n",
              "      <td>415</td>\n",
              "      <td>415</td>\n",
              "      <td>415</td>\n",
              "      <td>408</td>\n",
              "      <td>415</td>\n",
              "    </tr>\n",
              "    <tr>\n",
              "      <th>phone_number</th>\n",
              "      <td>382-4657</td>\n",
              "      <td>371-7191</td>\n",
              "      <td>358-1921</td>\n",
              "      <td>375-9999</td>\n",
              "      <td>330-6626</td>\n",
              "    </tr>\n",
              "    <tr>\n",
              "      <th>intl_plan</th>\n",
              "      <td>no</td>\n",
              "      <td>no</td>\n",
              "      <td>no</td>\n",
              "      <td>yes</td>\n",
              "      <td>yes</td>\n",
              "    </tr>\n",
              "    <tr>\n",
              "      <th>voice_mail_plan</th>\n",
              "      <td>yes</td>\n",
              "      <td>yes</td>\n",
              "      <td>no</td>\n",
              "      <td>no</td>\n",
              "      <td>no</td>\n",
              "    </tr>\n",
              "    <tr>\n",
              "      <th>number_vmail_messages</th>\n",
              "      <td>25</td>\n",
              "      <td>26</td>\n",
              "      <td>0</td>\n",
              "      <td>0</td>\n",
              "      <td>0</td>\n",
              "    </tr>\n",
              "    <tr>\n",
              "      <th>total_day_minutes</th>\n",
              "      <td>265.1</td>\n",
              "      <td>161.6</td>\n",
              "      <td>243.4</td>\n",
              "      <td>299.4</td>\n",
              "      <td>166.7</td>\n",
              "    </tr>\n",
              "    <tr>\n",
              "      <th>total_day_calls</th>\n",
              "      <td>110</td>\n",
              "      <td>123</td>\n",
              "      <td>114</td>\n",
              "      <td>71</td>\n",
              "      <td>113</td>\n",
              "    </tr>\n",
              "    <tr>\n",
              "      <th>total_day_charge</th>\n",
              "      <td>45.07</td>\n",
              "      <td>27.47</td>\n",
              "      <td>41.38</td>\n",
              "      <td>50.9</td>\n",
              "      <td>28.34</td>\n",
              "    </tr>\n",
              "    <tr>\n",
              "      <th>total_eve_minutes</th>\n",
              "      <td>197.4</td>\n",
              "      <td>195.5</td>\n",
              "      <td>121.2</td>\n",
              "      <td>61.9</td>\n",
              "      <td>148.3</td>\n",
              "    </tr>\n",
              "    <tr>\n",
              "      <th>total_eve_calls</th>\n",
              "      <td>99</td>\n",
              "      <td>103</td>\n",
              "      <td>110</td>\n",
              "      <td>88</td>\n",
              "      <td>122</td>\n",
              "    </tr>\n",
              "    <tr>\n",
              "      <th>total_eve_charge</th>\n",
              "      <td>16.78</td>\n",
              "      <td>16.62</td>\n",
              "      <td>10.3</td>\n",
              "      <td>5.26</td>\n",
              "      <td>12.61</td>\n",
              "    </tr>\n",
              "    <tr>\n",
              "      <th>total_night_minutes</th>\n",
              "      <td>244.7</td>\n",
              "      <td>254.4</td>\n",
              "      <td>162.6</td>\n",
              "      <td>196.9</td>\n",
              "      <td>186.9</td>\n",
              "    </tr>\n",
              "    <tr>\n",
              "      <th>total_night_calls</th>\n",
              "      <td>91</td>\n",
              "      <td>103</td>\n",
              "      <td>104</td>\n",
              "      <td>89</td>\n",
              "      <td>121</td>\n",
              "    </tr>\n",
              "    <tr>\n",
              "      <th>total_night_charge</th>\n",
              "      <td>11.01</td>\n",
              "      <td>11.45</td>\n",
              "      <td>7.32</td>\n",
              "      <td>8.86</td>\n",
              "      <td>8.41</td>\n",
              "    </tr>\n",
              "    <tr>\n",
              "      <th>total_intl_minutes</th>\n",
              "      <td>10.0</td>\n",
              "      <td>13.7</td>\n",
              "      <td>12.2</td>\n",
              "      <td>6.6</td>\n",
              "      <td>10.1</td>\n",
              "    </tr>\n",
              "    <tr>\n",
              "      <th>total_intl_calls</th>\n",
              "      <td>3</td>\n",
              "      <td>3</td>\n",
              "      <td>5</td>\n",
              "      <td>7</td>\n",
              "      <td>3</td>\n",
              "    </tr>\n",
              "    <tr>\n",
              "      <th>total_intl_charge</th>\n",
              "      <td>2.7</td>\n",
              "      <td>3.7</td>\n",
              "      <td>3.29</td>\n",
              "      <td>1.78</td>\n",
              "      <td>2.73</td>\n",
              "    </tr>\n",
              "    <tr>\n",
              "      <th>number_customer_service_calls</th>\n",
              "      <td>1</td>\n",
              "      <td>1</td>\n",
              "      <td>0</td>\n",
              "      <td>2</td>\n",
              "      <td>3</td>\n",
              "    </tr>\n",
              "    <tr>\n",
              "      <th>churned</th>\n",
              "      <td>False</td>\n",
              "      <td>False</td>\n",
              "      <td>False</td>\n",
              "      <td>False</td>\n",
              "      <td>False</td>\n",
              "    </tr>\n",
              "  </tbody>\n",
              "</table>\n",
              "</div>"
            ],
            "text/plain": [
              "                                      0         1         2         3  \\\n",
              "state                                KS        OH        NJ        OH   \n",
              "account_length                      128       107       137        84   \n",
              "area_code                           415       415       415       408   \n",
              "phone_number                   382-4657  371-7191  358-1921  375-9999   \n",
              "intl_plan                            no        no        no       yes   \n",
              "voice_mail_plan                     yes       yes        no        no   \n",
              "number_vmail_messages                25        26         0         0   \n",
              "total_day_minutes                 265.1     161.6     243.4     299.4   \n",
              "total_day_calls                     110       123       114        71   \n",
              "total_day_charge                  45.07     27.47     41.38      50.9   \n",
              "total_eve_minutes                 197.4     195.5     121.2      61.9   \n",
              "total_eve_calls                      99       103       110        88   \n",
              "total_eve_charge                  16.78     16.62      10.3      5.26   \n",
              "total_night_minutes               244.7     254.4     162.6     196.9   \n",
              "total_night_calls                    91       103       104        89   \n",
              "total_night_charge                11.01     11.45      7.32      8.86   \n",
              "total_intl_minutes                 10.0      13.7      12.2       6.6   \n",
              "total_intl_calls                      3         3         5         7   \n",
              "total_intl_charge                   2.7       3.7      3.29      1.78   \n",
              "number_customer_service_calls         1         1         0         2   \n",
              "churned                           False     False     False     False   \n",
              "\n",
              "                                      4  \n",
              "state                                OK  \n",
              "account_length                       75  \n",
              "area_code                           415  \n",
              "phone_number                   330-6626  \n",
              "intl_plan                           yes  \n",
              "voice_mail_plan                      no  \n",
              "number_vmail_messages                 0  \n",
              "total_day_minutes                 166.7  \n",
              "total_day_calls                     113  \n",
              "total_day_charge                  28.34  \n",
              "total_eve_minutes                 148.3  \n",
              "total_eve_calls                     122  \n",
              "total_eve_charge                  12.61  \n",
              "total_night_minutes               186.9  \n",
              "total_night_calls                   121  \n",
              "total_night_charge                 8.41  \n",
              "total_intl_minutes                 10.1  \n",
              "total_intl_calls                      3  \n",
              "total_intl_charge                  2.73  \n",
              "number_customer_service_calls         3  \n",
              "churned                           False  "
            ]
          },
          "execution_count": 4,
          "metadata": {},
          "output_type": "execute_result"
        }
      ],
      "source": [
        "data.head().T"
      ]
    },
    {
      "cell_type": "code",
      "execution_count": 5,
      "metadata": {
        "id": "sNhs8RWJHtNY"
      },
      "outputs": [],
      "source": [
        "data.drop(['state', 'phone_number', 'area_code'], axis=1, inplace=True)"
      ]
    },
    {
      "attachments": {},
      "cell_type": "markdown",
      "metadata": {
        "id": "6Qk0ooZOl_87",
        "run_control": {
          "marked": true
        }
      },
      "source": [
        "**Nem todos os valores são números inteiros ou valores flutuantes, portanto realizaremos alterações para que sejam.**"
      ]
    },
    {
      "cell_type": "code",
      "execution_count": 6,
      "metadata": {
        "ExecuteTime": {
          "end_time": "2017-05-10T01:11:43.154139Z",
          "start_time": "2017-05-10T01:11:43.146147Z"
        },
        "colab": {
          "base_uri": "https://localhost:8080/"
        },
        "id": "ve18UtFwl_88",
        "outputId": "6ec1c185-32b5-40d8-d3f2-bb30a26f83cb",
        "run_control": {
          "marked": true
        }
      },
      "outputs": [
        {
          "data": {
            "text/plain": [
              "float64    8\n",
              "int64      7\n",
              "object     2\n",
              "bool       1\n",
              "dtype: int64"
            ]
          },
          "execution_count": 6,
          "metadata": {},
          "output_type": "execute_result"
        }
      ],
      "source": [
        "data.dtypes.value_counts()"
      ]
    },
    {
      "cell_type": "code",
      "execution_count": 7,
      "metadata": {
        "colab": {
          "base_uri": "https://localhost:8080/"
        },
        "id": "_Qb7LBX-Ird9",
        "outputId": "a7aa4f1f-1e09-418a-e6a7-2f5a3a30c666"
      },
      "outputs": [
        {
          "data": {
            "text/plain": [
              "intl_plan          int32\n",
              "voice_mail_plan    int32\n",
              "churned            int32\n",
              "dtype: object"
            ]
          },
          "execution_count": 7,
          "metadata": {},
          "output_type": "execute_result"
        }
      ],
      "source": [
        "for col in ['intl_plan', 'voice_mail_plan', 'churned']: \n",
        "    data[col] = data[col].replace('yes',1).replace('no',0).replace('False',0).astype(int)\n",
        "    \n",
        "    \n",
        "data[['intl_plan', 'voice_mail_plan', 'churned']].dtypes"
      ]
    },
    {
      "attachments": {},
      "cell_type": "markdown",
      "metadata": {
        "id": "RtCmRnPwl_8-",
        "run_control": {
          "marked": true
        }
      },
      "source": [
        "## Question 2\n",
        "\n",
        "* Integer encode the activities.\n",
        "* Split the data into train and test data sets. Decide if the data will be stratified or not during the train/test split."
      ]
    },
    {
      "cell_type": "code",
      "execution_count": 8,
      "metadata": {
        "colab": {
          "base_uri": "https://localhost:8080/"
        },
        "id": "jcIJcgaUTfCn",
        "outputId": "be7673a8-c1d9-4afc-8a25-ebf5a64912f9"
      },
      "outputs": [
        {
          "data": {
            "text/plain": [
              "0    4293\n",
              "1     707\n",
              "Name: churned, dtype: int64"
            ]
          },
          "execution_count": 8,
          "metadata": {},
          "output_type": "execute_result"
        }
      ],
      "source": [
        "data.churned.value_counts()"
      ]
    },
    {
      "cell_type": "code",
      "execution_count": 9,
      "metadata": {
        "colab": {
          "base_uri": "https://localhost:8080/"
        },
        "id": "_WB299EmTmQi",
        "outputId": "0df536dd-0a3f-433a-c517-ad36ebfe500b"
      },
      "outputs": [
        {
          "data": {
            "text/plain": [
              "0    0.8586\n",
              "1    0.1414\n",
              "Name: churned, dtype: float64"
            ]
          },
          "execution_count": 9,
          "metadata": {},
          "output_type": "execute_result"
        }
      ],
      "source": [
        "data.churned.value_counts(normalize=True)"
      ]
    },
    {
      "attachments": {},
      "cell_type": "markdown",
      "metadata": {
        "id": "vwDSdEhmUBZJ"
      },
      "source": [
        "**Percebe-se que os dados são desviados em média em 86% para os clientes não cancelados.**"
      ]
    },
    {
      "attachments": {},
      "cell_type": "markdown",
      "metadata": {
        "id": "I0e6bULJZZfi"
      },
      "source": [
        "0- churned\n",
        "1- not churned "
      ]
    },
    {
      "cell_type": "code",
      "execution_count": 10,
      "metadata": {
        "ExecuteTime": {
          "end_time": "2017-05-10T01:11:45.754512Z",
          "start_time": "2017-05-10T01:11:45.334989Z"
        },
        "colab": {
          "base_uri": "https://localhost:8080/"
        },
        "id": "OaSNRw1sl_8_",
        "outputId": "090d494b-e36b-4f28-c514-fc8c173f62c2",
        "run_control": {
          "marked": true
        }
      },
      "outputs": [
        {
          "data": {
            "text/plain": [
              "array([0, 1])"
            ]
          },
          "execution_count": 10,
          "metadata": {},
          "output_type": "execute_result"
        }
      ],
      "source": [
        "from sklearn.preprocessing import LabelEncoder\n",
        "\n",
        "le = LabelEncoder()\n",
        "\n",
        "data['churned'] = le.fit_transform(data['churned'])\n",
        "\n",
        "le.classes_"
      ]
    },
    {
      "attachments": {},
      "cell_type": "markdown",
      "metadata": {
        "id": "z0gAynMIl_9A",
        "run_control": {
          "marked": true
        }
      },
      "source": [
        "**NOTE**: We are about to create training and test sets from `data`. On those datasets, we are going to run grid searches over many choices of parameters. This can take some time. In order to shorten the grid search time, feel free to downsample `data` and create `X_train, X_test, y_train, y_test` from the downsampled dataset.\n",
        "\n",
        "Now split the data into train and test data sets. A stratified split was not used here. If there are issues with any of the error metrics on the test set, it can be a good idea to start model fitting over using a stratified split. Boosting is a pretty powerful model, though, so it may not be necessary in this case."
      ]
    },
    {
      "cell_type": "code",
      "execution_count": 11,
      "metadata": {
        "id": "BP_CN47rVCFy"
      },
      "outputs": [],
      "source": [
        "from sklearn.model_selection import StratifiedShuffleSplit\n",
        "\n",
        "\n",
        "feature_cols = [x for x in data.columns if x != 'churned']\n",
        "\n",
        "\n",
        "# Dividindo os dados em duas partes de 1500 pontos de teste\n",
        "strat_shuff_split = StratifiedShuffleSplit(n_splits=1, test_size=1500, random_state=42)\n",
        "\n",
        "\n",
        "# Obtém os valores do índice do gerador\n",
        "train_idx, test_idx = next(strat_shuff_split.split(data[feature_cols], data['churned']))\n",
        "\n",
        "# Cria os conjuntos de dados\n",
        "X_train = data.loc[train_idx, feature_cols]\n",
        "y_train = data.loc[train_idx, 'churned']\n",
        "\n",
        "X_test = data.loc[test_idx, feature_cols]\n",
        "y_test = data.loc[test_idx, 'churned']"
      ]
    },
    {
      "cell_type": "code",
      "execution_count": 12,
      "metadata": {
        "ExecuteTime": {
          "end_time": "2017-05-10T01:11:49.286980Z",
          "start_time": "2017-05-10T01:11:49.274354Z"
        },
        "colab": {
          "base_uri": "https://localhost:8080/"
        },
        "id": "moS4IzhDl_9C",
        "outputId": "7fc453ed-e73c-45da-ad68-c5f726884d72",
        "run_control": {
          "marked": true
        }
      },
      "outputs": [
        {
          "data": {
            "text/plain": [
              "((3500, 17), (3500,), (1500, 17), (1500,))"
            ]
          },
          "execution_count": 12,
          "metadata": {},
          "output_type": "execute_result"
        }
      ],
      "source": [
        "X_train.shape, y_train.shape, X_test.shape, y_test.shape"
      ]
    },
    {
      "attachments": {},
      "cell_type": "markdown",
      "metadata": {
        "id": "s5mui6-5l_9D",
        "run_control": {
          "marked": true
        }
      },
      "source": [
        "## Question 3\n",
        "\n",
        "* Fit gradient boosted tree models with all parameters set to their defaults the following tree numbers (`n_estimators = [25, 50, 100, 200, 400]`) and evaluate the accuracy on the test data for each of these models. \n",
        "* Plot the accuracy as a function of estimator number.\n",
        "\n",
        "**Note:** This question may take some time to execute, depending on how many different values are fit for estimators. Setting `max_features=4` in the gradient boosting classifier will increase the convergence rate.\n",
        "\n",
        "Also, this is similar to question 3 from week 9, except that there is no such thing as out-of-bag error for boosted models. And the `warm_flag=True` setting has a bug in the gradient boosted model, so don't use it. Simply create the model inside the `for` loop and set the number of estimators at this time. This will make the fitting take a little longer. Additionally, boosting models tend to take longer to fit than bagged ones because the decision stumps must be fit successively."
      ]
    },
    {
      "cell_type": "code",
      "execution_count": 13,
      "metadata": {
        "ExecuteTime": {
          "end_time": "2017-05-10T01:12:11.212764Z",
          "start_time": "2017-05-10T01:11:51.188370Z"
        },
        "colab": {
          "base_uri": "https://localhost:8080/",
          "height": 431
        },
        "id": "wKFnjgQbl_9E",
        "outputId": "bfbe3496-0bce-40c6-a046-f73d0aad2dd3",
        "run_control": {
          "marked": true
        }
      },
      "outputs": [
        {
          "data": {
            "text/html": [
              "<div>\n",
              "<style scoped>\n",
              "    .dataframe tbody tr th:only-of-type {\n",
              "        vertical-align: middle;\n",
              "    }\n",
              "\n",
              "    .dataframe tbody tr th {\n",
              "        vertical-align: top;\n",
              "    }\n",
              "\n",
              "    .dataframe thead th {\n",
              "        text-align: right;\n",
              "    }\n",
              "</style>\n",
              "<table border=\"1\" class=\"dataframe\">\n",
              "  <thead>\n",
              "    <tr style=\"text-align: right;\">\n",
              "      <th></th>\n",
              "      <th>error</th>\n",
              "    </tr>\n",
              "    <tr>\n",
              "      <th>n_trees</th>\n",
              "      <th></th>\n",
              "    </tr>\n",
              "  </thead>\n",
              "  <tbody>\n",
              "    <tr>\n",
              "      <th>15.0</th>\n",
              "      <td>0.104667</td>\n",
              "    </tr>\n",
              "    <tr>\n",
              "      <th>50.0</th>\n",
              "      <td>0.064667</td>\n",
              "    </tr>\n",
              "    <tr>\n",
              "      <th>100.0</th>\n",
              "      <td>0.060000</td>\n",
              "    </tr>\n",
              "    <tr>\n",
              "      <th>200.0</th>\n",
              "      <td>0.050000</td>\n",
              "    </tr>\n",
              "    <tr>\n",
              "      <th>400.0</th>\n",
              "      <td>0.048000</td>\n",
              "    </tr>\n",
              "  </tbody>\n",
              "</table>\n",
              "</div>"
            ],
            "text/plain": [
              "            error\n",
              "n_trees          \n",
              "15.0     0.104667\n",
              "50.0     0.064667\n",
              "100.0    0.060000\n",
              "200.0    0.050000\n",
              "400.0    0.048000"
            ]
          },
          "execution_count": 13,
          "metadata": {},
          "output_type": "execute_result"
        }
      ],
      "source": [
        "from sklearn.ensemble import GradientBoostingClassifier\n",
        "from sklearn.metrics import accuracy_score\n",
        "\n",
        "error_list = list()\n",
        "\n",
        "# Iterate through all of the possibilities for number of estimators\n",
        "tree_list = [15, 50, 100, 200, 400]\n",
        "for n_trees in tree_list:\n",
        "    \n",
        "    # Initialize the gradient boost classifier\n",
        "    GBC = GradientBoostingClassifier(n_estimators=n_trees, \n",
        "                                     subsample=0.5,\n",
        "                                     max_features=4,\n",
        "                                     random_state=42)\n",
        "\n",
        "    # Fit the model\n",
        "    GBC.fit(X_train.values, y_train.values)\n",
        "    y_pred = GBC.predict(X_test)\n",
        "\n",
        "    # Get the error\n",
        "    error = 1. - accuracy_score(y_test, y_pred)\n",
        "    \n",
        "    # Store it\n",
        "    error_list.append(pd.Series({'n_trees': n_trees, 'error': error}))\n",
        "\n",
        "error_df = pd.concat(error_list, axis=1).T.set_index('n_trees')\n",
        "\n",
        "error_df"
      ]
    },
    {
      "attachments": {},
      "cell_type": "markdown",
      "metadata": {
        "id": "1ZnFcz14l_9F"
      },
      "source": [
        "Agora vamos plotar os resultados"
      ]
    },
    {
      "cell_type": "code",
      "execution_count": 14,
      "metadata": {
        "ExecuteTime": {
          "end_time": "2017-05-10T01:12:41.798817Z",
          "start_time": "2017-05-10T01:12:41.526579Z"
        },
        "id": "Ii8uoZYjl_9G"
      },
      "outputs": [],
      "source": [
        "import matplotlib.pyplot as plt\n",
        "import seaborn as sns\n",
        "\n",
        "# matplotlib inline"
      ]
    },
    {
      "cell_type": "code",
      "execution_count": 15,
      "metadata": {
        "ExecuteTime": {
          "end_time": "2017-05-10T01:12:59.958013Z",
          "start_time": "2017-05-10T01:12:59.668178Z"
        },
        "colab": {
          "base_uri": "https://localhost:8080/",
          "height": 476
        },
        "id": "BVi4oXnMl_9H",
        "outputId": "a28fa719-8bba-4ff8-d9c2-c9a7a6118ef8",
        "run_control": {
          "marked": true
        }
      },
      "outputs": [
        {
          "data": {
            "image/png": "[encoded data removed]",
            "text/plain": [
              "<Figure size 640x480 with 1 Axes>"
            ]
          },
          "metadata": {},
          "output_type": "display_data"
        }
      ],
      "source": [
        "sns.set_context('talk')\n",
        "sns.set_style('white')\n",
        "sns.set_palette('dark')\n",
        "\n",
        "# Create the plot\n",
        "ax = error_df.plot(marker='o')\n",
        "\n",
        "# Set parameters\n",
        "ax.set(xlabel='n_trees', ylabel='error')\n",
        "ax.set_xlim(0, max(error_df.index)*1.1);"
      ]
    },
    {
      "attachments": {},
      "cell_type": "markdown",
      "metadata": {
        "id": "X3IYm8C4l_9H",
        "run_control": {
          "marked": true
        }
      },
      "source": [
        "## Question 4\n",
        "\n",
        "* Using a grid search with cross-validation, fit a new gradient boosted classifier with the a list of estimators, similar to question 3. Also consider  varying the learning rates (0.1, 0.01, 0.001, etc.), the subsampling value (1.0 or 0.5), and the number of maximum features (1, 2, etc.).\n",
        "* Examine the parameters of the best fit model.\n",
        "* Calculate relevant error metrics on this model and examine the confusion matrix.\n",
        "\n",
        "**Note:** this question may take some time to execute, depending on how many features are associated with the grid search. It is recommended to start with only a few to ensure everything is working correctly and then add more features. Setting `max_features=4` in the gradient boosting classifier will increase the convergence rate."
      ]
    },
    {
      "cell_type": "code",
      "execution_count": 16,
      "metadata": {
        "ExecuteTime": {
          "end_time": "2017-05-10T01:13:50.069924Z",
          "start_time": "2017-05-10T01:13:04.015520Z"
        },
        "id": "wbvIPkiAl_9I",
        "run_control": {
          "marked": true
        }
      },
      "outputs": [],
      "source": [
        "from sklearn.model_selection import GridSearchCV\n",
        "\n",
        "# The parameters to be fit--only n_estimators and learning rate\n",
        "# have been varied here for simplicity\n",
        "param_grid = {'n_estimators': [200, 400],\n",
        "              'learning_rate': [0.1, 0.01]}\n",
        "\n",
        "# The grid search object\n",
        "GV_GBC = GridSearchCV(GradientBoostingClassifier(subsample=0.5,\n",
        "                                                 max_features=4,\n",
        "                                                 random_state=42), \n",
        "                      param_grid=param_grid, \n",
        "                      scoring='accuracy',\n",
        "                      n_jobs=-1)\n",
        "\n",
        "# Do the grid search\n",
        "GV_GBC = GV_GBC.fit(X_train, y_train)"
      ]
    },
    {
      "cell_type": "code",
      "execution_count": 17,
      "metadata": {
        "ExecuteTime": {
          "end_time": "2017-05-10T01:13:58.145246Z",
          "start_time": "2017-05-10T01:13:58.137933Z"
        },
        "colab": {
          "base_uri": "https://localhost:8080/",
          "height": 93
        },
        "id": "bTqmx9wnl_9J",
        "outputId": "264d5639-e1f4-4976-d383-a85c25c0ed31"
      },
      "outputs": [
        {
          "data": {
            "text/html": [
              "<style>#sk-container-id-1 {color: black;background-color: white;}#sk-container-id-1 pre{padding: 0;}#sk-container-id-1 div.sk-toggleable {background-color: white;}#sk-container-id-1 label.sk-toggleable__label {cursor: pointer;display: block;width: 100%;margin-bottom: 0;padding: 0.3em;box-sizing: border-box;text-align: center;}#sk-container-id-1 label.sk-toggleable__label-arrow:before {content: \"▸\";float: left;margin-right: 0.25em;color: #696969;}#sk-container-id-1 label.sk-toggleable__label-arrow:hover:before {color: black;}#sk-container-id-1 div.sk-estimator:hover label.sk-toggleable__label-arrow:before {color: black;}#sk-container-id-1 div.sk-toggleable__content {max-height: 0;max-width: 0;overflow: hidden;text-align: left;background-color: #f0f8ff;}#sk-container-id-1 div.sk-toggleable__content pre {margin: 0.2em;color: black;border-radius: 0.25em;background-color: #f0f8ff;}#sk-container-id-1 input.sk-toggleable__control:checked~div.sk-toggleable__content {max-height: 200px;max-width: 100%;overflow: auto;}#sk-container-id-1 input.sk-toggleable__control:checked~label.sk-toggleable__label-arrow:before {content: \"▾\";}#sk-container-id-1 div.sk-estimator input.sk-toggleable__control:checked~label.sk-toggleable__label {background-color: #d4ebff;}#sk-container-id-1 div.sk-label input.sk-toggleable__control:checked~label.sk-toggleable__label {background-color: #d4ebff;}#sk-container-id-1 input.sk-hidden--visually {border: 0;clip: rect(1px 1px 1px 1px);clip: rect(1px, 1px, 1px, 1px);height: 1px;margin: -1px;overflow: hidden;padding: 0;position: absolute;width: 1px;}#sk-container-id-1 div.sk-estimator {font-family: monospace;background-color: #f0f8ff;border: 1px dotted black;border-radius: 0.25em;box-sizing: border-box;margin-bottom: 0.5em;}#sk-container-id-1 div.sk-estimator:hover {background-color: #d4ebff;}#sk-container-id-1 div.sk-parallel-item::after {content: \"\";width: 100%;border-bottom: 1px solid gray;flex-grow: 1;}#sk-container-id-1 div.sk-label:hover label.sk-toggleable__label {background-color: #d4ebff;}#sk-container-id-1 div.sk-serial::before {content: \"\";position: absolute;border-left: 1px solid gray;box-sizing: border-box;top: 0;bottom: 0;left: 50%;z-index: 0;}#sk-container-id-1 div.sk-serial {display: flex;flex-direction: column;align-items: center;background-color: white;padding-right: 0.2em;padding-left: 0.2em;position: relative;}#sk-container-id-1 div.sk-item {position: relative;z-index: 1;}#sk-container-id-1 div.sk-parallel {display: flex;align-items: stretch;justify-content: center;background-color: white;position: relative;}#sk-container-id-1 div.sk-item::before, #sk-container-id-1 div.sk-parallel-item::before {content: \"\";position: absolute;border-left: 1px solid gray;box-sizing: border-box;top: 0;bottom: 0;left: 50%;z-index: -1;}#sk-container-id-1 div.sk-parallel-item {display: flex;flex-direction: column;z-index: 1;position: relative;background-color: white;}#sk-container-id-1 div.sk-parallel-item:first-child::after {align-self: flex-end;width: 50%;}#sk-container-id-1 div.sk-parallel-item:last-child::after {align-self: flex-start;width: 50%;}#sk-container-id-1 div.sk-parallel-item:only-child::after {width: 0;}#sk-container-id-1 div.sk-dashed-wrapped {border: 1px dashed gray;margin: 0 0.4em 0.5em 0.4em;box-sizing: border-box;padding-bottom: 0.4em;background-color: white;}#sk-container-id-1 div.sk-label label {font-family: monospace;font-weight: bold;display: inline-block;line-height: 1.2em;}#sk-container-id-1 div.sk-label-container {text-align: center;}#sk-container-id-1 div.sk-container {/* jupyter's `normalize.less` sets `[hidden] { display: none; }` but bootstrap.min.css set `[hidden] { display: none !important; }` so we also need the `!important` here to be able to override the default hidden behavior on the sphinx rendered scikit-learn.org. See: https://github.com/scikit-learn/scikit-learn/issues/21755 */display: inline-block !important;position: relative;}#sk-container-id-1 div.sk-text-repr-fallback {display: none;}</style><div id=\"sk-container-id-1\" class=\"sk-top-container\"><div class=\"sk-text-repr-fallback\"><pre>GradientBoostingClassifier(max_features=4, n_estimators=200, random_state=42,\n",
              "                           subsample=0.5)</pre><b>In a Jupyter environment, please rerun this cell to show the HTML representation or trust the notebook. <br />On GitHub, the HTML representation is unable to render, please try loading this page with nbviewer.org.</b></div><div class=\"sk-container\" hidden><div class=\"sk-item\"><div class=\"sk-estimator sk-toggleable\"><input class=\"sk-toggleable__control sk-hidden--visually\" id=\"sk-estimator-id-1\" type=\"checkbox\" checked><label for=\"sk-estimator-id-1\" class=\"sk-toggleable__label sk-toggleable__label-arrow\">GradientBoostingClassifier</label><div class=\"sk-toggleable__content\"><pre>GradientBoostingClassifier(max_features=4, n_estimators=200, random_state=42,\n",
              "                           subsample=0.5)</pre></div></div></div></div></div>"
            ],
            "text/plain": [
              "GradientBoostingClassifier(max_features=4, n_estimators=200, random_state=42,\n",
              "                           subsample=0.5)"
            ]
          },
          "execution_count": 17,
          "metadata": {},
          "output_type": "execute_result"
        }
      ],
      "source": [
        "# The best model\n",
        "GV_GBC.best_estimator_"
      ]
    },
    {
      "attachments": {},
      "cell_type": "markdown",
      "metadata": {
        "id": "y9fE0xCLl_9K"
      },
      "source": [
        "The error metrics. Classification report is particularly convenient for multi-class cases."
      ]
    },
    {
      "cell_type": "code",
      "execution_count": 18,
      "metadata": {
        "ExecuteTime": {
          "end_time": "2017-05-10T01:14:00.156367Z",
          "start_time": "2017-05-10T01:13:59.716319Z"
        },
        "colab": {
          "base_uri": "https://localhost:8080/"
        },
        "id": "Fqqm48MPl_9L",
        "outputId": "dfa7206b-309e-4ba6-e4c6-987fc6b7d087"
      },
      "outputs": [
        {
          "name": "stdout",
          "output_type": "stream",
          "text": [
            "              precision    recall  f1-score   support\n",
            "\n",
            "           0       0.99      0.95      0.97      1333\n",
            "           1       0.72      0.91      0.80       167\n",
            "\n",
            "    accuracy                           0.95      1500\n",
            "   macro avg       0.85      0.93      0.89      1500\n",
            "weighted avg       0.96      0.95      0.95      1500\n",
            "\n"
          ]
        }
      ],
      "source": [
        "from sklearn.metrics import classification_report\n",
        "\n",
        "y_pred = GV_GBC.predict(X_test)\n",
        "print(classification_report(y_pred, y_test))"
      ]
    },
    {
      "cell_type": "code",
      "execution_count": 19,
      "metadata": {
        "ExecuteTime": {
          "end_time": "2017-05-10T01:14:02.200468Z",
          "start_time": "2017-05-10T01:14:01.835016Z"
        },
        "colab": {
          "base_uri": "https://localhost:8080/",
          "height": 446
        },
        "id": "eGR_4myMl_9M",
        "outputId": "9e452f19-edfa-4033-a22b-907d66754654"
      },
      "outputs": [
        {
          "data": {
            "image/png": "[encoded data removed]",
            "text/plain": [
              "<Figure size 640x480 with 2 Axes>"
            ]
          },
          "metadata": {},
          "output_type": "display_data"
        }
      ],
      "source": [
        "from sklearn.metrics import confusion_matrix\n",
        "\n",
        "sns.set_context('talk')\n",
        "cm = confusion_matrix(y_test, y_pred)\n",
        "ax = sns.heatmap(cm, annot=True, fmt='d')"
      ]
    },
    {
      "attachments": {},
      "cell_type": "markdown",
      "metadata": {},
      "source": [
        "**Essa matriz de confusão indica que o modelo teve um bom desempenho em classificar corretamente as instâncias negativas, pois obteve 152 verdadeiros negativos. No entanto, houve algumas instâncias positivas que foram classificadas incorretamente como negativas, resultando em 15 falsos negativos. Além disso, o modelo também classificou incorretamente algumas instâncias como positivas quando na verdade eram negativas, resultando em 60 falsos positivos.**\n",
        "\n",
        "**Portanto, essa matriz de confusão sugere que o modelo pode ter um desempenho relativamente melhor na classificação das instâncias negativas do que nas instâncias positivas. Dependendo do contexto e dos objetivos do problema, pode ser necessário ajustar o modelo para melhorar a classificação das instâncias positivas, reduzindo assim os falsos negativos e falsos positivos.**"
      ]
    },
    {
      "attachments": {},
      "cell_type": "markdown",
      "metadata": {
        "id": "TfhcxnwZl_9N"
      },
      "source": [
        "## Question 5\n",
        "\n",
        "* Create an AdaBoost model and fit it using grid search, much like question 4. Try a range of estimators between 100 and 200.\n",
        "* Compare the errors from AdaBoost to those from the GradientBoostedClassifier.\n",
        "\n",
        "**NOTE:** Setting `max_features=4` in the decision tree classifier used as the base classifier for AdaBoost will increase the convergence rate."
      ]
    },
    {
      "cell_type": "code",
      "execution_count": 20,
      "metadata": {
        "ExecuteTime": {
          "end_time": "2017-05-10T01:14:04.907337Z",
          "start_time": "2017-05-10T01:14:03.445697Z"
        },
        "id": "uomRr2bGl_9O"
      },
      "outputs": [],
      "source": [
        "from sklearn.ensemble import AdaBoostClassifier\n",
        "from sklearn.tree import DecisionTreeClassifier\n",
        "\n",
        "ABC = AdaBoostClassifier(DecisionTreeClassifier(max_features=4))\n",
        "\n",
        "param_grid = {'n_estimators': [100, 150, 200],\n",
        "              'learning_rate': [0.01, 0.001]}\n",
        "\n",
        "GV_ABC = GridSearchCV(ABC,\n",
        "                      param_grid=param_grid, \n",
        "                      scoring='accuracy',\n",
        "                      n_jobs=-1)\n",
        "\n",
        "GV_ABC = GV_ABC.fit(X_train, y_train)"
      ]
    },
    {
      "attachments": {},
      "cell_type": "markdown",
      "metadata": {
        "id": "kOt8le9Dl_9O"
      },
      "source": [
        "The best model."
      ]
    },
    {
      "cell_type": "code",
      "execution_count": 21,
      "metadata": {
        "ExecuteTime": {
          "end_time": "2017-05-10T01:14:27.449489Z",
          "start_time": "2017-05-10T01:14:27.441823Z"
        },
        "colab": {
          "base_uri": "https://localhost:8080/",
          "height": 205
        },
        "id": "jJGQgTQjl_9P",
        "outputId": "b1af9bde-7ab8-4ad1-ef80-30c927e073b9"
      },
      "outputs": [
        {
          "data": {
            "text/html": [
              "<style>#sk-container-id-2 {color: black;background-color: white;}#sk-container-id-2 pre{padding: 0;}#sk-container-id-2 div.sk-toggleable {background-color: white;}#sk-container-id-2 label.sk-toggleable__label {cursor: pointer;display: block;width: 100%;margin-bottom: 0;padding: 0.3em;box-sizing: border-box;text-align: center;}#sk-container-id-2 label.sk-toggleable__label-arrow:before {content: \"▸\";float: left;margin-right: 0.25em;color: #696969;}#sk-container-id-2 label.sk-toggleable__label-arrow:hover:before {color: black;}#sk-container-id-2 div.sk-estimator:hover label.sk-toggleable__label-arrow:before {color: black;}#sk-container-id-2 div.sk-toggleable__content {max-height: 0;max-width: 0;overflow: hidden;text-align: left;background-color: #f0f8ff;}#sk-container-id-2 div.sk-toggleable__content pre {margin: 0.2em;color: black;border-radius: 0.25em;background-color: #f0f8ff;}#sk-container-id-2 input.sk-toggleable__control:checked~div.sk-toggleable__content {max-height: 200px;max-width: 100%;overflow: auto;}#sk-container-id-2 input.sk-toggleable__control:checked~label.sk-toggleable__label-arrow:before {content: \"▾\";}#sk-container-id-2 div.sk-estimator input.sk-toggleable__control:checked~label.sk-toggleable__label {background-color: #d4ebff;}#sk-container-id-2 div.sk-label input.sk-toggleable__control:checked~label.sk-toggleable__label {background-color: #d4ebff;}#sk-container-id-2 input.sk-hidden--visually {border: 0;clip: rect(1px 1px 1px 1px);clip: rect(1px, 1px, 1px, 1px);height: 1px;margin: -1px;overflow: hidden;padding: 0;position: absolute;width: 1px;}#sk-container-id-2 div.sk-estimator {font-family: monospace;background-color: #f0f8ff;border: 1px dotted black;border-radius: 0.25em;box-sizing: border-box;margin-bottom: 0.5em;}#sk-container-id-2 div.sk-estimator:hover {background-color: #d4ebff;}#sk-container-id-2 div.sk-parallel-item::after {content: \"\";width: 100%;border-bottom: 1px solid gray;flex-grow: 1;}#sk-container-id-2 div.sk-label:hover label.sk-toggleable__label {background-color: #d4ebff;}#sk-container-id-2 div.sk-serial::before {content: \"\";position: absolute;border-left: 1px solid gray;box-sizing: border-box;top: 0;bottom: 0;left: 50%;z-index: 0;}#sk-container-id-2 div.sk-serial {display: flex;flex-direction: column;align-items: center;background-color: white;padding-right: 0.2em;padding-left: 0.2em;position: relative;}#sk-container-id-2 div.sk-item {position: relative;z-index: 1;}#sk-container-id-2 div.sk-parallel {display: flex;align-items: stretch;justify-content: center;background-color: white;position: relative;}#sk-container-id-2 div.sk-item::before, #sk-container-id-2 div.sk-parallel-item::before {content: \"\";position: absolute;border-left: 1px solid gray;box-sizing: border-box;top: 0;bottom: 0;left: 50%;z-index: -1;}#sk-container-id-2 div.sk-parallel-item {display: flex;flex-direction: column;z-index: 1;position: relative;background-color: white;}#sk-container-id-2 div.sk-parallel-item:first-child::after {align-self: flex-end;width: 50%;}#sk-container-id-2 div.sk-parallel-item:last-child::after {align-self: flex-start;width: 50%;}#sk-container-id-2 div.sk-parallel-item:only-child::after {width: 0;}#sk-container-id-2 div.sk-dashed-wrapped {border: 1px dashed gray;margin: 0 0.4em 0.5em 0.4em;box-sizing: border-box;padding-bottom: 0.4em;background-color: white;}#sk-container-id-2 div.sk-label label {font-family: monospace;font-weight: bold;display: inline-block;line-height: 1.2em;}#sk-container-id-2 div.sk-label-container {text-align: center;}#sk-container-id-2 div.sk-container {/* jupyter's `normalize.less` sets `[hidden] { display: none; }` but bootstrap.min.css set `[hidden] { display: none !important; }` so we also need the `!important` here to be able to override the default hidden behavior on the sphinx rendered scikit-learn.org. See: https://github.com/scikit-learn/scikit-learn/issues/21755 */display: inline-block !important;position: relative;}#sk-container-id-2 div.sk-text-repr-fallback {display: none;}</style><div id=\"sk-container-id-2\" class=\"sk-top-container\"><div class=\"sk-text-repr-fallback\"><pre>AdaBoostClassifier(estimator=DecisionTreeClassifier(max_features=4),\n",
              "                   learning_rate=0.01, n_estimators=100)</pre><b>In a Jupyter environment, please rerun this cell to show the HTML representation or trust the notebook. <br />On GitHub, the HTML representation is unable to render, please try loading this page with nbviewer.org.</b></div><div class=\"sk-container\" hidden><div class=\"sk-item sk-dashed-wrapped\"><div class=\"sk-label-container\"><div class=\"sk-label sk-toggleable\"><input class=\"sk-toggleable__control sk-hidden--visually\" id=\"sk-estimator-id-2\" type=\"checkbox\" ><label for=\"sk-estimator-id-2\" class=\"sk-toggleable__label sk-toggleable__label-arrow\">AdaBoostClassifier</label><div class=\"sk-toggleable__content\"><pre>AdaBoostClassifier(estimator=DecisionTreeClassifier(max_features=4),\n",
              "                   learning_rate=0.01, n_estimators=100)</pre></div></div></div><div class=\"sk-parallel\"><div class=\"sk-parallel-item\"><div class=\"sk-item\"><div class=\"sk-label-container\"><div class=\"sk-label sk-toggleable\"><input class=\"sk-toggleable__control sk-hidden--visually\" id=\"sk-estimator-id-3\" type=\"checkbox\" ><label for=\"sk-estimator-id-3\" class=\"sk-toggleable__label sk-toggleable__label-arrow\">estimator: DecisionTreeClassifier</label><div class=\"sk-toggleable__content\"><pre>DecisionTreeClassifier(max_features=4)</pre></div></div></div><div class=\"sk-serial\"><div class=\"sk-item\"><div class=\"sk-estimator sk-toggleable\"><input class=\"sk-toggleable__control sk-hidden--visually\" id=\"sk-estimator-id-4\" type=\"checkbox\" ><label for=\"sk-estimator-id-4\" class=\"sk-toggleable__label sk-toggleable__label-arrow\">DecisionTreeClassifier</label><div class=\"sk-toggleable__content\"><pre>DecisionTreeClassifier(max_features=4)</pre></div></div></div></div></div></div></div></div></div></div>"
            ],
            "text/plain": [
              "AdaBoostClassifier(estimator=DecisionTreeClassifier(max_features=4),\n",
              "                   learning_rate=0.01, n_estimators=100)"
            ]
          },
          "execution_count": 21,
          "metadata": {},
          "output_type": "execute_result"
        }
      ],
      "source": [
        "# The best model\n",
        "GV_ABC.best_estimator_"
      ]
    },
    {
      "cell_type": "code",
      "execution_count": 22,
      "metadata": {
        "ExecuteTime": {
          "end_time": "2017-05-10T01:14:28.970078Z",
          "start_time": "2017-05-10T01:14:28.950952Z"
        },
        "colab": {
          "base_uri": "https://localhost:8080/"
        },
        "id": "U_OWl5IMl_9Q",
        "outputId": "8276dddc-1d15-4eaa-b884-29b80930353d"
      },
      "outputs": [
        {
          "name": "stdout",
          "output_type": "stream",
          "text": [
            "              precision    recall  f1-score   support\n",
            "\n",
            "           0       0.93      0.95      0.94      1272\n",
            "           1       0.68      0.63      0.65       228\n",
            "\n",
            "    accuracy                           0.90      1500\n",
            "   macro avg       0.81      0.79      0.80      1500\n",
            "weighted avg       0.90      0.90      0.90      1500\n",
            "\n"
          ]
        }
      ],
      "source": [
        "y_pred = GV_ABC.predict(X_test)\n",
        "print(classification_report(y_pred, y_test))"
      ]
    },
    {
      "cell_type": "code",
      "execution_count": 23,
      "metadata": {
        "ExecuteTime": {
          "end_time": "2017-05-10T01:14:30.262072Z",
          "start_time": "2017-05-10T01:14:29.908366Z"
        },
        "colab": {
          "base_uri": "https://localhost:8080/",
          "height": 446
        },
        "id": "fRgWM-4Wl_9R",
        "outputId": "27467066-8828-4712-d8f3-79b663524e34"
      },
      "outputs": [
        {
          "data": {
            "image/png": "[encoded data removed]",
            "text/plain": [
              "<Figure size 640x480 with 2 Axes>"
            ]
          },
          "metadata": {},
          "output_type": "display_data"
        }
      ],
      "source": [
        "sns.set_context('talk')\n",
        "cm = confusion_matrix(y_test, y_pred)\n",
        "ax = sns.heatmap(cm, annot=True, fmt='d')"
      ]
    },
    {
      "attachments": {},
      "cell_type": "markdown",
      "metadata": {},
      "source": [
        "**O algortimo GradientBoostedClassifier teve uma taxa de erro de 5% enquanto o ADABOOST teve 10,13% de erro, isso pode ser em função de que o GradientBoostedClassifier utiliza um método de gradiente descendente para otimizar o modelo a cada etapa, enquanto o ADABOOST atribui pesos às amostras de treinamento para ajustar a importância delas. Essas diferenças na abordagem de combinação de modelos fracos podem levar a diferenças na taxa de erros.**"
      ]
    },
    {
      "attachments": {},
      "cell_type": "markdown",
      "metadata": {
        "id": "goCkz9Zal_9R"
      },
      "source": [
        "## Question 6\n",
        "\n",
        "* Fit a logistic regression model with regularization. This can be a replica of a model that worked well in the exercises from week 4.\n",
        "* Using `VotingClassifier`, fit the logistic regression model along with either the GratientBoostedClassifier or the AdaBoost model (or both) from questions 4 and 5.\n",
        "* Determine the error as before and compare the results to the appropriate gradient boosted model(s).\n",
        "* Plot the confusion matrix for the best model created in this set of exercises."
      ]
    },
    {
      "cell_type": "code",
      "execution_count": 24,
      "metadata": {
        "ExecuteTime": {
          "end_time": "2017-05-10T01:15:02.371973Z",
          "start_time": "2017-05-10T01:14:37.658154Z"
        },
        "id": "qbOATs8ql_9S"
      },
      "outputs": [],
      "source": [
        "from sklearn.linear_model import LogisticRegressionCV\n",
        "\n",
        "# L2 regularized logistic regression\n",
        "LR_L2 = LogisticRegressionCV(Cs=5, cv=4, max_iter=10000, penalty='l2').fit(X_train, y_train)"
      ]
    },
    {
      "cell_type": "raw",
      "metadata": {
        "id": "XoOt6msEl_9S"
      },
      "source": [
        "Check the errors and confusion matrix for the logistic regression model."
      ]
    },
    {
      "cell_type": "code",
      "execution_count": 25,
      "metadata": {
        "ExecuteTime": {
          "end_time": "2017-05-10T01:16:54.633111Z",
          "start_time": "2017-05-10T01:16:54.616577Z"
        },
        "colab": {
          "base_uri": "https://localhost:8080/"
        },
        "id": "4ixcIMSml_9h",
        "outputId": "4f070738-730a-4730-d3ff-49eccfe05552",
        "scrolled": true
      },
      "outputs": [
        {
          "name": "stdout",
          "output_type": "stream",
          "text": [
            "              precision    recall  f1-score   support\n",
            "\n",
            "           0       1.00      0.87      0.93      1480\n",
            "           1       0.07      0.70      0.12        20\n",
            "\n",
            "    accuracy                           0.86      1500\n",
            "   macro avg       0.53      0.78      0.52      1500\n",
            "weighted avg       0.98      0.86      0.92      1500\n",
            "\n"
          ]
        }
      ],
      "source": [
        "y_pred = LR_L2.predict(X_test)\n",
        "print(classification_report(y_pred, y_test))"
      ]
    },
    {
      "cell_type": "code",
      "execution_count": 26,
      "metadata": {
        "ExecuteTime": {
          "end_time": "2017-05-10T01:16:55.955121Z",
          "start_time": "2017-05-10T01:16:55.620672Z"
        },
        "colab": {
          "base_uri": "https://localhost:8080/",
          "height": 446
        },
        "id": "XaWraF25l_9i",
        "outputId": "8e191536-f631-4f53-c2a3-9af8620ddd9b"
      },
      "outputs": [
        {
          "data": {
            "image/png": "[encoded data removed]",
            "text/plain": [
              "<Figure size 640x480 with 2 Axes>"
            ]
          },
          "metadata": {},
          "output_type": "display_data"
        }
      ],
      "source": [
        "sns.set_context('talk')\n",
        "cm = confusion_matrix(y_test, y_pred)\n",
        "ax = sns.heatmap(cm, annot=True, fmt='d')"
      ]
    },
    {
      "attachments": {},
      "cell_type": "markdown",
      "metadata": {
        "id": "YUf99VP2l_9j"
      },
      "source": [
        "And now the stacked model."
      ]
    },
    {
      "cell_type": "code",
      "execution_count": 27,
      "metadata": {
        "ExecuteTime": {
          "end_time": "2017-05-10T01:18:06.520265Z",
          "start_time": "2017-05-10T01:16:57.388412Z"
        },
        "id": "cbhdPAW2l_9j"
      },
      "outputs": [],
      "source": [
        "from sklearn.ensemble import VotingClassifier\n",
        "\n",
        "# The combined model--logistic regression and gradient boosted trees\n",
        "estimators = [('LR_L2', LR_L2), ('GBC', GV_GBC)]\n",
        "\n",
        "# Though it wasn't done here, it is often desirable to train \n",
        "# this model using an additional hold-out data set and/or with cross validation\n",
        "VC = VotingClassifier(estimators, voting='soft')\n",
        "VC = VC.fit(X_train, y_train)"
      ]
    },
    {
      "attachments": {},
      "cell_type": "markdown",
      "metadata": {
        "id": "R0Ta9oOil_9k"
      },
      "source": [
        "Finally the error on the voting classifier. We do a little better here than with either logistic regression or gradient boosted trees alone. However, the fact that logistic regression does almost as well as gradient boosted trees is an important reminder that it's good practice to try the simplest model first. In some cases, its performance will be good enough."
      ]
    },
    {
      "attachments": {},
      "cell_type": "markdown",
      "metadata": {
        "id": "1WuSBrjxbzLm"
      },
      "source": [
        "# FAZER ANALISE AQUI E EXCLUIR A CELULA ACIMA\n",
        "\n",
        "\n",
        "erro da matriz de confusao: 13.6%"
      ]
    },
    {
      "cell_type": "code",
      "execution_count": 28,
      "metadata": {
        "ExecuteTime": {
          "end_time": "2017-05-10T01:19:50.917331Z",
          "start_time": "2017-05-10T01:19:50.524569Z"
        },
        "colab": {
          "base_uri": "https://localhost:8080/"
        },
        "id": "nhm_jY4tl_9l",
        "outputId": "7369e8f1-385d-48cc-8987-b31db36cae5f"
      },
      "outputs": [
        {
          "name": "stdout",
          "output_type": "stream",
          "text": [
            "              precision    recall  f1-score   support\n",
            "\n",
            "           0       0.92      0.99      0.95      1288\n",
            "           1       0.91      0.44      0.60       212\n",
            "\n",
            "    accuracy                           0.92      1500\n",
            "   macro avg       0.91      0.72      0.77      1500\n",
            "weighted avg       0.92      0.92      0.90      1500\n",
            "\n"
          ]
        }
      ],
      "source": [
        "y_pred = VC.predict(X_test)\n",
        "print(classification_report(y_test, y_pred))"
      ]
    },
    {
      "cell_type": "code",
      "execution_count": 29,
      "metadata": {
        "ExecuteTime": {
          "end_time": "2017-05-10T01:19:54.468316Z",
          "start_time": "2017-05-10T01:19:54.089180Z"
        },
        "colab": {
          "base_uri": "https://localhost:8080/",
          "height": 446
        },
        "id": "rWqproDgl_9l",
        "outputId": "cc7bc181-88be-4e55-b8f3-6501b3d31bb8"
      },
      "outputs": [
        {
          "data": {
            "image/png": "[encoded data removed]",
            "text/plain": [
              "<Figure size 640x480 with 2 Axes>"
            ]
          },
          "metadata": {},
          "output_type": "display_data"
        }
      ],
      "source": [
        "sns.set_context('talk')\n",
        "cm = confusion_matrix(y_test, y_pred)\n",
        "ax = sns.heatmap(cm, annot=True, fmt='d')"
      ]
    },
    {
      "attachments": {},
      "cell_type": "markdown",
      "metadata": {
        "id": "O85YQEszmIWF"
      },
      "source": [
        "COMPARAR COM O BAGGING\n"
      ]
    }
  ],
  "metadata": {
    "colab": {
      "provenance": []
    },
    "kernelspec": {
      "display_name": "Python 3 (ipykernel)",
      "language": "python",
      "name": "python3"
    },
    "language_info": {
      "codemirror_mode": {
        "name": "ipython",
        "version": 3
      },
      "file_extension": ".py",
      "mimetype": "text/x-python",
      "name": "python",
      "nbconvert_exporter": "python",
      "pygments_lexer": "ipython3",
      "version": "3.10.11"
    }
  },
  "nbformat": 4,
  "nbformat_minor": 0
}
